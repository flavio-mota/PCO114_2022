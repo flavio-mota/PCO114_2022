{
  "nbformat": 4,
  "nbformat_minor": 0,
  "metadata": {
    "colab": {
      "provenance": [],
      "authorship_tag": "ABX9TyN6ibw3UcRQj7y1QWV22a/S",
      "include_colab_link": true
    },
    "kernelspec": {
      "name": "python3",
      "display_name": "Python 3"
    },
    "language_info": {
      "name": "python"
    }
  },
  "cells": [
    {
      "cell_type": "markdown",
      "metadata": {
        "id": "view-in-github",
        "colab_type": "text"
      },
      "source": [
        "<a href=\"https://colab.research.google.com/github/flavio-mota/PCO114_2022/blob/main/PCO114%20Explorando%20Dados%20com%20Python.ipynb\" target=\"_parent\"><img src=\"https://colab.research.google.com/assets/colab-badge.svg\" alt=\"Open In Colab\"/></a>"
      ]
    },
    {
      "cell_type": "markdown",
      "source": [
        "<img src=\"https://raw.githubusercontent.com/flavio-mota/fundamentos-pln/master/unifei-inpe.png\" align=\"right\" width=\"150\" />\n",
        "\n",
        "<br/>\n",
        "<br/>\n",
        "\n",
        "# <span style=\"color:#336699\">Visualização de Informação - Explorando Dados com Python</span>\n",
        "<hr style=\"border:2px solid #0077b9;\">\n",
        "\n",
        "<br/>\n",
        "\n",
        "<div style=\"text-align: center;font-size: 90%;\">\n",
        "    Autores:<br/>\n",
        "    Flávio Belizário da Silva Mota¹<br/>\n",
        "    Melise Maria Veiga de Paula²\n",
        "    <br/><br/>\n",
        "    ¹Instituto Nacional de Pesquisas Espaciais (INPE) <br/>\n",
        "    ²Universidade Federal de Itajubá (UNIFEI)\n",
        "    <br/>\n",
        "    <br/>\n",
        "    Contato: <a href=\"mailto:flavio.mota@inpe.com\">flavio.mota@inpe.com</a>\n",
        "    <br/>\n",
        "    04/10/2023\n",
        "    <br>\n",
        "</div>\n",
        "\n",
        "<br/>\n",
        "\n",
        "<div style=\"text-align: justify;  margin-left: 25%; margin-right: 25%;\">\n",
        "<b>Objetivo.</b> Esse caderno Jupyter tem como objetivo apresentar um <i>template</i> para a implementação de uma estratégia para coletar, descrever, explorar e verificar a qualidade de um conjunto de dados.\n",
        "</div>"
      ],
      "metadata": {
        "id": "lBkrvQYSogyE"
      }
    },
    {
      "cell_type": "markdown",
      "source": [
        "## Instalando a biblioteca necessária\n",
        "<hr style=\"border:2px solid #0077b9;\">"
      ],
      "metadata": {
        "id": "HaJrcZaK5EcV"
      }
    },
    {
      "cell_type": "markdown",
      "source": [
        "Para apresentar o exemplo dessa aula, precisaremos instalar uma das bibliotecas do ambiente colab que usaremos para gerar as descrições dos nossos dados. Isso é necessário porque o Colab é uma máquina virtual que é instanciada com algumas bibliotecas padrão para análise de dados e aprendizado de máquina. Entretanto, por se tratarem de bibliotecas do python, elas podem não estar instaladas ou ficarem desatualizadas e perder o suporte da versão da linguagem. Podemos instalar a biblioteca <code>ydata-profiling</code> utilizando o comando abaixo:\n",
        "\n"
      ],
      "metadata": {
        "id": "cvRq4nTL5MXZ"
      }
    },
    {
      "cell_type": "code",
      "source": [
        "!pip install ydata-profiling"
      ],
      "metadata": {
        "id": "g9cTh-L82QEl"
      },
      "execution_count": null,
      "outputs": []
    },
    {
      "cell_type": "markdown",
      "source": [
        "## Coletando os dados\n",
        "<hr style=\"border:2px solid #0077b9;\">"
      ],
      "metadata": {
        "id": "ICp-bsHc3PK9"
      }
    },
    {
      "cell_type": "markdown",
      "source": [
        "Como exemplo de coleta de dados, vamos trabalhar com o conjunto de dados fornecido e, nesse caso, carregar a base a partir de um arquivo CSV. Para isso utilizaremos a biblioteca <code>pandas</code>.<br/><br/>\n",
        "De forma muito resumida, essa biblioteca é uma das mais empregadas (se não a mais) para análise de dados com Python. Ela permite trabalhar com dados estruturados ou tabulares de forma rápida e fácil. A principal estrutura da biblioteca é o <code>DataFrame</code>, que é uma estrutura de dados tabular, orientada a colunas, com rótulos tanto para as linhas quanto para colunas. Existem também as <code>Series</code>, que são objetos de array unidimensional com rótulo. Veremos essas estruturas na prática posteriormente.<br/><br/>\n",
        "Mais detalhes da biblioteca podem ser encontrados em <a>https://pandas.pydata.org/</a>."
      ],
      "metadata": {
        "id": "AjYb0LQ13ajO"
      }
    },
    {
      "cell_type": "markdown",
      "source": [
        "Vamos importar a biblioteca <code>pandas</code> e <code>ydata-profiling</code>, definir a <i>URL</i> da qual vamos coletar o conjunto de dados e por fim ler o arquivo CSV em uma estrutura <code>DataFrame</code>:"
      ],
      "metadata": {
        "id": "hioNtVLvAje4"
      }
    },
    {
      "cell_type": "code",
      "execution_count": null,
      "metadata": {
        "id": "xep4CI4Yr23V"
      },
      "outputs": [],
      "source": [
        "import pandas as pd # importando pandas\n",
        "from ydata_profiling import ProfileReport # importando ydata_profiling\n",
        "\n",
        "# Define a url com o arquivo CSV que será utilizado\n",
        "url = 'https://raw.githubusercontent.com/flavio-mota/PCO114_2022/main/dados/datatran2020.csv'\n",
        "\n",
        "# Lê o arquivo CSV com a biblioteca pandas e salva em uma estrutura DataFrame na variável df\n",
        "# Atenção para o parâmetro 'sep'. É ele que define o caracter separador do arquivo CSV\n",
        "df = pd.read_csv(url, sep=';')"
      ]
    },
    {
      "cell_type": "markdown",
      "source": [
        "Agora que temos nossos dados carregados em um <code>DataFrame</code>, podemos começar a explorá-lo utilizando todos os recursos da biblioteca."
      ],
      "metadata": {
        "id": "HGvYBUJzBfxV"
      }
    },
    {
      "cell_type": "markdown",
      "source": [
        "## Descrevendo os dados\n",
        "<hr style=\"border:2px solid #0077b9;\">"
      ],
      "metadata": {
        "id": "_U5m9yGDCTX7"
      }
    },
    {
      "cell_type": "markdown",
      "source": [
        "Após coletar os dados e armazená-los em uma estrutura <code>DataFrame</code>, podemos acessar alguns atributos dessa estrutura que são capazes de trazer algumas informações sobre os dados. A primeira informação que podemos consultar é sobre o tamanho do conjunto de dados. Podemos fazer isso com o comando a seguir:"
      ],
      "metadata": {
        "id": "HrC1j042DA87"
      }
    },
    {
      "cell_type": "code",
      "source": [
        "df.shape"
      ],
      "metadata": {
        "id": "ZYfoxPMbzmGX"
      },
      "execution_count": null,
      "outputs": []
    },
    {
      "cell_type": "markdown",
      "source": [
        "O resultado exibido informa a quantidade de linhas e colunas do nosso conjunto de dados. Vamos deixar essa informação mais agradável para o nosso relatório:"
      ],
      "metadata": {
        "id": "NNGz9Z_kFN13"
      }
    },
    {
      "cell_type": "code",
      "source": [
        "print('O conjunto contém %s registros (linhas) e %s colunas (atributos).' % (df.shape[0], df.shape[1]))"
      ],
      "metadata": {
        "id": "J42HttSjzqFq"
      },
      "execution_count": null,
      "outputs": []
    },
    {
      "cell_type": "markdown",
      "source": [
        "Podemos verificar quais são as colunas/atributos do conjunto com o seguinte comando:"
      ],
      "metadata": {
        "id": "dM8b0DPsFoDs"
      }
    },
    {
      "cell_type": "code",
      "source": [
        "df.columns"
      ],
      "metadata": {
        "id": "wX2YjNyKz9yA"
      },
      "execution_count": null,
      "outputs": []
    },
    {
      "cell_type": "markdown",
      "source": [
        "Agora que sabemos o que nome de cada coluna, podemos verificar os tipos de dados que cada uma delas armazena e também se existem valores ausentes:"
      ],
      "metadata": {
        "id": "QSY_1kH1NH7g"
      }
    },
    {
      "cell_type": "code",
      "source": [
        "df.info()"
      ],
      "metadata": {
        "id": "CasZjGt1NVVz"
      },
      "execution_count": null,
      "outputs": []
    },
    {
      "cell_type": "markdown",
      "source": [
        "O resultado retornado nos mostra que temos colunas que armazenam dados do tipo inteiro (<code>int64</code>), numérico/ponto flutuante (<code>float64</code>) e dados do tipo <code>object</code>. O tipo <code>object</code> pela documentação da biblioteca pandas, representa um tipo de \"objeto arbitrário\". As cadeias de caracteres também são entendidas pela biblioteca como sendo desse tipo. Nem todas as colunas possuem dados, uma vez que a coluna <code>Non-Null Count</code> apresentou o valores diferentes para cada coluna."
      ],
      "metadata": {
        "id": "ERywV3zCNsH0"
      }
    },
    {
      "cell_type": "markdown",
      "source": [
        "Podemos visualizar alguns registros do conjunto de dados para ter uma noção do que cada um deles armazena:"
      ],
      "metadata": {
        "id": "8KRudXj6PxOd"
      }
    },
    {
      "cell_type": "code",
      "source": [
        "df.head()"
      ],
      "metadata": {
        "id": "mAPYSeKU0EgU"
      },
      "execution_count": null,
      "outputs": []
    },
    {
      "cell_type": "markdown",
      "source": [
        "No comando acima, listamos os 5 primeiros registros do conjunto de dados e algumas de suas colunas. Por serem muitas colunas, o pandas oculta algumas delas para não sobrecarregar a visualização. Aqui já conseguimos ter uma pequena noção de como são nossos dados e que valores eles apresentam. Podemos solicitar ao <code>DataFrame</code> uma descrição do conjunto de dados através do comando abaixo:"
      ],
      "metadata": {
        "id": "fUelRlWMQFew"
      }
    },
    {
      "cell_type": "code",
      "source": [
        "# O parâmetro include com o valor \"all\" é informado aqui porque temos variáveis categóricas (object) no conjunto\n",
        "# e sem esse parâmetro, o método describe retornaria descrições somente dos dados numéricos\n",
        "df.describe(include='all')"
      ],
      "metadata": {
        "id": "_RkgYKmY0M-e"
      },
      "execution_count": null,
      "outputs": []
    },
    {
      "cell_type": "markdown",
      "source": [
        "Através do método <code>describe()</code> é possível extrair algumas medidas estatísticas do conjunto, como contagens, valores únicos, valores mais frequentes, média, desvio padrão, valor mínimo e máximo e as distribuições por quartis."
      ],
      "metadata": {
        "id": "gBM52k3PRCac"
      }
    },
    {
      "cell_type": "markdown",
      "source": [
        "Uma outra forma mais prática e agradável de descrever e explorar os dados que facilita muito essa etapa é utilizar a biblioteca <code>pandas-profiling</code>. Essa biblioteca gera relatórios a partir de um <code>DataFrame</code>. A função <code>describe()</code> é útil, mas um pouco básica para análise exploratória de dados. Para cada coluna, um conjunto de informações (sempre que relevantes para o tipo de coluna) são apresentadas em um relatório HTML interativo. Para isso, vamos utilizar o comando a seguir:"
      ],
      "metadata": {
        "id": "kJPnRYgfSIw_"
      }
    },
    {
      "cell_type": "code",
      "source": [
        "profile = ProfileReport(df, title='Descrevendo os dados', html={'style':{'full_width':True}})"
      ],
      "metadata": {
        "id": "t-Y2XsJI0w86"
      },
      "execution_count": null,
      "outputs": []
    },
    {
      "cell_type": "markdown",
      "source": [
        "Esse comando define qual a fonte de dados que queremos usar para gerar o relatório, o título que queremos dar a ele e alguns parâmetros de estilo para o HTML que será gerado. Para construir de fato o relatório, usamos o comando a seguir. O processo pode ser demorado a depender do conjunto de dados."
      ],
      "metadata": {
        "id": "vSDjsyH2TG7u"
      }
    },
    {
      "cell_type": "code",
      "source": [
        "profile.to_notebook_iframe()"
      ],
      "metadata": {
        "id": "Blrkx1Rq0zIR"
      },
      "execution_count": null,
      "outputs": []
    },
    {
      "cell_type": "markdown",
      "source": [
        "Agora que já conseguimos descrever e explorar nossos dados, podemos exportar o relatório gerado como um arquivo HTML que pode ser utilizado fora do ambiente jupyter. Para isso, basta utilizarmos o seguinte comando:"
      ],
      "metadata": {
        "id": "GyJS28edTgEF"
      }
    },
    {
      "cell_type": "code",
      "source": [
        "profile.to_file(\"descrevendo_dados.html\")"
      ],
      "metadata": {
        "id": "2mgRjmZK5Q1V"
      },
      "execution_count": null,
      "outputs": []
    },
    {
      "cell_type": "markdown",
      "source": [
        "Após essas etapas, já somos capazes de descrever nosso conjunto de dados, apontar alguns ajustes que devem ser feitos e partir para a etapa de preparação dos dados. A ideia é que uma vez que esses dados estejam em uma estrutura <code>DataFrame</code>, o processo de descrever e explorar o dado seja o mesmo que vimos nesse notebook."
      ],
      "metadata": {
        "id": "owjqEJLQV-sl"
      }
    },
    {
      "cell_type": "markdown",
      "source": [
        "## Referências"
      ],
      "metadata": {
        "id": "8d3M5JD4Xqdm"
      }
    },
    {
      "cell_type": "markdown",
      "source": [
        "Python para Análise de Dados - Wes McKiney. Novatec, São Paulo, 2021.<br/>\n",
        "Projetos de Ciência de Dados com Pyhton - Stephen Klosterman. Novatec, São Paulo, 2020.<br/>\n",
        "[Biblioteca pandas](https://pandas.pydata.org/)<br/>\n",
        "[Biblioteca ydata-profiling](https://docs.profiling.ydata.ai/4.5/)"
      ],
      "metadata": {
        "id": "qtsTQlBaXuL6"
      }
    }
  ]
}